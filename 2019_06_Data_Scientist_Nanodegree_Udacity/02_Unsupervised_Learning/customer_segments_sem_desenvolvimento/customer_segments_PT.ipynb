{
 "cells": [
  {
   "cell_type": "markdown",
   "metadata": {},
   "source": [
    "# Nanodegree Engenheiro de Machine Learning\n",
    "## Aprendizagem Não Supervisionada\n",
    "## Projeto 3: Criando Segmentos de Clientela"
   ]
  },
  {
   "cell_type": "markdown",
   "metadata": {},
   "source": [
    "Bem-vindo ao terceiro projeto do Nanodegree Engenheiro de Machine Learning! Neste Notebook, alguns modelos de código já foram fornecidos e será seu trabalho implementar funcionalidades adicionais necessárias para completar seu projeto com êxito. Seções que começam com **'Implementação'** no cabeçalho indicam que os blocos de código seguintes vão precisar de funcionalidades adicionais que você deve fornecer. As instruções serão fornecidas para cada seção e as especificações da implementação são marcados no bloco de código com um `'TODO'`. Leia as instruções atentamente!\n",
    "\n",
    "Além de implementar códigos, há perguntas que você deve responder relacionadas ao projeto e a sua implementação. Cada seção na qual você responderá uma questão está precedida de um cabeçalho **'Questão X'**. Leia atentamente cada questão e forneça respostas completas nos boxes seguintes que começam com **'Resposta:'**. O envio do seu projeto será avaliado baseado nas suas respostas para cada uma das questões e na implementação que você forneceu.  \n",
    "\n",
    ">**Nota:** Células de código e Markdown podem ser executadas utilizando o atalho do teclado **Shift+Enter**. Além disso, células de Markdown podem ser editadas ao dar duplo clique na célula para entrar no modo de edição."
   ]
  },
  {
   "cell_type": "markdown",
   "metadata": {},
   "source": [
    "## Começando\n",
    "\n",
    "Neste projeto, você irá analisar o conjunto de dados de montantes de despesas anuais de vários clientes (reportados em *unidades monetárias*) de diversas categorias de produtos para estrutura interna. Um objetivo deste projeto é melhor descrever a variação de diferentes tipos de clientes que um distribuidor de atacado interage. Isso dará ao distribuidor discernimento sobre como melhor estruturar seu serviço de entrega de acordo com as necessidades de cada cliente.\n",
    "\n",
    "O conjunto de dados deste projeto pode ser encontrado no [Repositório de Machine Learning da UCI](https://archive.ics.uci.edu/ml/datasets/Wholesale+customers). Para efeitos de projeto, os atributos `'Channel'` e `'Region'` serão excluídos da análise – que focará então nas seis categorias de produtos registrados para clientes.\n",
    "\n",
    "Execute o bloco de código abaixo para carregar o conjunto de dados de clientes da distribuidora, junto com algumas das bibliotecas de Python necessárias exigidos para este projeto. Você saberá que o conjunto de dados carregou com êxito se o tamanho do conjunto de dados for reportado."
   ]
  },
  {
   "cell_type": "code",
   "execution_count": 1,
   "metadata": {},
   "outputs": [
    {
     "name": "stdout",
     "output_type": "stream",
     "text": [
      "Wholesale customers dataset has 440 samples with 6 features each.\n"
     ]
    }
   ],
   "source": [
    "# Importe as bibliotecas necessárias para este projeto\n",
    "import numpy as np\n",
    "import pandas as pd\n",
    "from IPython.display import display # Permite o uso de display() para DataFrames\n",
    "\n",
    "# Importe o código sumplementar para visualização de visuals.py\n",
    "import visuals as vs\n",
    "\n",
    "# Mostre matplotlib no corpo do texto (bem formatado no Notebook)\n",
    "%matplotlib inline\n",
    "\n",
    "# Carregue o conjunto de dados dos clientes da distribuidora de atacado\n",
    "try:\n",
    "    data = pd.read_csv(\"customers.csv\")\n",
    "    data.drop(['Region', 'Channel'], axis = 1, inplace = True)\n",
    "    print (\"Wholesale customers dataset has {} samples with {} features each.\".format(*data.shape))\n",
    "except:\n",
    "    print(\"Dataset could not be loaded. Is the dataset missing?\")"
   ]
  },
  {
   "cell_type": "markdown",
   "metadata": {},
   "source": [
    "## Explorando os Dados\n",
    "Nesta seção, você vai começar a explorar os dados através de visualizações e códigos para entender como cada atributo é relacionado a outros. Você vai observar descrições estatísticas do conjunto de dados, considerando a relevância de cada atributo, e selecionando alguns exemplos de pontos de dados do conjunto de dados que você vai seguir no decorrer do curso deste projeto.\n",
    "\n",
    "Execute o bloco de código abaixo para observar as descrições estatísticas sobre o conjunto de dados. Note que o conjunto é compostos de seis categorias importantes de produtos: **'Fresh'**, **'Milk'**, **'Grocery'**, **'Frozen'**, **'Detergents_Paper'** e **'Delicatessen'** (Perecíveis, Lacticínios, Secos e Molhados, Congelados, Limpeza/Higiene, Padaria/Frios). Considere o que cada categoria representa em termos os produtos que você poderia comprar."
   ]
  },
  {
   "cell_type": "code",
   "execution_count": 2,
   "metadata": {},
   "outputs": [
    {
     "data": {
      "text/html": [
       "<div>\n",
       "<style scoped>\n",
       "    .dataframe tbody tr th:only-of-type {\n",
       "        vertical-align: middle;\n",
       "    }\n",
       "\n",
       "    .dataframe tbody tr th {\n",
       "        vertical-align: top;\n",
       "    }\n",
       "\n",
       "    .dataframe thead th {\n",
       "        text-align: right;\n",
       "    }\n",
       "</style>\n",
       "<table border=\"1\" class=\"dataframe\">\n",
       "  <thead>\n",
       "    <tr style=\"text-align: right;\">\n",
       "      <th></th>\n",
       "      <th>Fresh</th>\n",
       "      <th>Milk</th>\n",
       "      <th>Grocery</th>\n",
       "      <th>Frozen</th>\n",
       "      <th>Detergents_Paper</th>\n",
       "      <th>Delicatessen</th>\n",
       "    </tr>\n",
       "  </thead>\n",
       "  <tbody>\n",
       "    <tr>\n",
       "      <th>count</th>\n",
       "      <td>440.000000</td>\n",
       "      <td>440.000000</td>\n",
       "      <td>440.000000</td>\n",
       "      <td>440.000000</td>\n",
       "      <td>440.000000</td>\n",
       "      <td>440.000000</td>\n",
       "    </tr>\n",
       "    <tr>\n",
       "      <th>mean</th>\n",
       "      <td>12000.297727</td>\n",
       "      <td>5796.265909</td>\n",
       "      <td>7951.277273</td>\n",
       "      <td>3071.931818</td>\n",
       "      <td>2881.493182</td>\n",
       "      <td>1524.870455</td>\n",
       "    </tr>\n",
       "    <tr>\n",
       "      <th>std</th>\n",
       "      <td>12647.328865</td>\n",
       "      <td>7380.377175</td>\n",
       "      <td>9503.162829</td>\n",
       "      <td>4854.673333</td>\n",
       "      <td>4767.854448</td>\n",
       "      <td>2820.105937</td>\n",
       "    </tr>\n",
       "    <tr>\n",
       "      <th>min</th>\n",
       "      <td>3.000000</td>\n",
       "      <td>55.000000</td>\n",
       "      <td>3.000000</td>\n",
       "      <td>25.000000</td>\n",
       "      <td>3.000000</td>\n",
       "      <td>3.000000</td>\n",
       "    </tr>\n",
       "    <tr>\n",
       "      <th>25%</th>\n",
       "      <td>3127.750000</td>\n",
       "      <td>1533.000000</td>\n",
       "      <td>2153.000000</td>\n",
       "      <td>742.250000</td>\n",
       "      <td>256.750000</td>\n",
       "      <td>408.250000</td>\n",
       "    </tr>\n",
       "    <tr>\n",
       "      <th>50%</th>\n",
       "      <td>8504.000000</td>\n",
       "      <td>3627.000000</td>\n",
       "      <td>4755.500000</td>\n",
       "      <td>1526.000000</td>\n",
       "      <td>816.500000</td>\n",
       "      <td>965.500000</td>\n",
       "    </tr>\n",
       "    <tr>\n",
       "      <th>75%</th>\n",
       "      <td>16933.750000</td>\n",
       "      <td>7190.250000</td>\n",
       "      <td>10655.750000</td>\n",
       "      <td>3554.250000</td>\n",
       "      <td>3922.000000</td>\n",
       "      <td>1820.250000</td>\n",
       "    </tr>\n",
       "    <tr>\n",
       "      <th>max</th>\n",
       "      <td>112151.000000</td>\n",
       "      <td>73498.000000</td>\n",
       "      <td>92780.000000</td>\n",
       "      <td>60869.000000</td>\n",
       "      <td>40827.000000</td>\n",
       "      <td>47943.000000</td>\n",
       "    </tr>\n",
       "  </tbody>\n",
       "</table>\n",
       "</div>"
      ],
      "text/plain": [
       "               Fresh          Milk       Grocery        Frozen  \\\n",
       "count     440.000000    440.000000    440.000000    440.000000   \n",
       "mean    12000.297727   5796.265909   7951.277273   3071.931818   \n",
       "std     12647.328865   7380.377175   9503.162829   4854.673333   \n",
       "min         3.000000     55.000000      3.000000     25.000000   \n",
       "25%      3127.750000   1533.000000   2153.000000    742.250000   \n",
       "50%      8504.000000   3627.000000   4755.500000   1526.000000   \n",
       "75%     16933.750000   7190.250000  10655.750000   3554.250000   \n",
       "max    112151.000000  73498.000000  92780.000000  60869.000000   \n",
       "\n",
       "       Detergents_Paper  Delicatessen  \n",
       "count        440.000000    440.000000  \n",
       "mean        2881.493182   1524.870455  \n",
       "std         4767.854448   2820.105937  \n",
       "min            3.000000      3.000000  \n",
       "25%          256.750000    408.250000  \n",
       "50%          816.500000    965.500000  \n",
       "75%         3922.000000   1820.250000  \n",
       "max        40827.000000  47943.000000  "
      ]
     },
     "metadata": {},
     "output_type": "display_data"
    }
   ],
   "source": [
    "# Mostre a descrição do conjunto de dados\n",
    "display(data.describe())"
   ]
  },
  {
   "cell_type": "markdown",
   "metadata": {},
   "source": [
    "### Implementação: Selecionando Amostras\n",
    "Para melhor compreensão da clientela e como seus dados vão se transformar no decorrer da análise, é melhor selecionar algumas amostras de dados de pontos e explorá-los com mais detalhes. No bloco de código abaixo, adicione **três** índices de sua escolha para a lista de `indices` que irá representar os clientes que serão acompanhados. Sugerimos que você tente diferentes conjuntos de amostras até obter clientes que variam significativamente entre si."
   ]
  },
  {
   "cell_type": "code",
   "execution_count": 3,
   "metadata": {},
   "outputs": [
    {
     "name": "stdout",
     "output_type": "stream",
     "text": [
      "Chosen samples of wholesale customers dataset:\n"
     ]
    },
    {
     "data": {
      "text/html": [
       "<div>\n",
       "<style scoped>\n",
       "    .dataframe tbody tr th:only-of-type {\n",
       "        vertical-align: middle;\n",
       "    }\n",
       "\n",
       "    .dataframe tbody tr th {\n",
       "        vertical-align: top;\n",
       "    }\n",
       "\n",
       "    .dataframe thead th {\n",
       "        text-align: right;\n",
       "    }\n",
       "</style>\n",
       "<table border=\"1\" class=\"dataframe\">\n",
       "  <thead>\n",
       "    <tr style=\"text-align: right;\">\n",
       "      <th></th>\n",
       "      <th>Fresh</th>\n",
       "      <th>Milk</th>\n",
       "      <th>Grocery</th>\n",
       "      <th>Frozen</th>\n",
       "      <th>Detergents_Paper</th>\n",
       "      <th>Delicatessen</th>\n",
       "    </tr>\n",
       "  </thead>\n",
       "  <tbody>\n",
       "    <tr>\n",
       "      <th>0</th>\n",
       "      <td>22615</td>\n",
       "      <td>5410</td>\n",
       "      <td>7198</td>\n",
       "      <td>3915</td>\n",
       "      <td>1777</td>\n",
       "      <td>5185</td>\n",
       "    </tr>\n",
       "    <tr>\n",
       "      <th>1</th>\n",
       "      <td>1531</td>\n",
       "      <td>8397</td>\n",
       "      <td>6981</td>\n",
       "      <td>247</td>\n",
       "      <td>2505</td>\n",
       "      <td>1236</td>\n",
       "    </tr>\n",
       "    <tr>\n",
       "      <th>2</th>\n",
       "      <td>5181</td>\n",
       "      <td>22044</td>\n",
       "      <td>21531</td>\n",
       "      <td>1740</td>\n",
       "      <td>7353</td>\n",
       "      <td>4985</td>\n",
       "    </tr>\n",
       "  </tbody>\n",
       "</table>\n",
       "</div>"
      ],
      "text/plain": [
       "   Fresh   Milk  Grocery  Frozen  Detergents_Paper  Delicatessen\n",
       "0  22615   5410     7198    3915              1777          5185\n",
       "1   1531   8397     6981     247              2505          1236\n",
       "2   5181  22044    21531    1740              7353          4985"
      ]
     },
     "metadata": {},
     "output_type": "display_data"
    }
   ],
   "source": [
    "# TODO: Selecione três índices de sua escolha que você gostaria de obter como amostra do conjunto de dados\n",
    "indices = [4,108,45]\n",
    "\n",
    "# Crie um DataFrame das amostras escolhidas\n",
    "samples = pd.DataFrame(data.loc[indices], columns = data.keys()).reset_index(drop = True)\n",
    "print (\"Chosen samples of wholesale customers dataset:\")\n",
    "display(samples)"
   ]
  },
  {
   "cell_type": "markdown",
   "metadata": {},
   "source": [
    "### Questão 1\n",
    "Considere que a compra total de cada categoria de produto e a descrição estatística do conjunto de dados abaixo para a sua amostra de clientes.  \n",
    " - Que tipo de estabelecimento (de cliente) cada uma das três amostras que você escolheu representa?\n",
    "\n",
    "**Dica:** Exemplos de estabelecimentos incluem lugares como mercados, cafés e varejistas, entre outros. Evite utilizar nomes para esses padrões, como dizer *\"McDonalds\"* ao descrever uma amostra de cliente de restaurante."
   ]
  },
  {
   "cell_type": "markdown",
   "metadata": {},
   "source": [
    "**Resposta:** A Amostra um provavelmente representa um grande varejista de comidas frescas, especialmente frutas.\n",
    "A segunda amostra representa um pequeno supermercado, devido ao baixos valores entre todas as categorias de produtos e de forma distribuída. Além disso, apresenta um baixo número de comidas congeladas, por não possuir muitos refrigeradores provavelmente.\n",
    "A terceira amostra representa um grande supermercado, devido as altas despesas com leite e itens de mercado (grocery)."
   ]
  },
  {
   "cell_type": "markdown",
   "metadata": {},
   "source": [
    "### Implementação: Relevância do Atributo\n",
    "Um pensamento interessante a se considerar é se um (ou mais) das seis categorias de produto são na verdade relevantes para entender a compra do cliente. Dito isso, é possível determinar se o cliente que comprou certa quantidade de uma categoria de produto vai necessariamente comprar outra quantidade proporcional de outra categoria de produtos? Nós podemos determinar facilmente ao treinar uma aprendizagem não supervisionada de regressão em um conjunto de dados com um atributo removido e então pontuar quão bem o modelo pode prever o atributo removido.\n",
    "\n",
    "No bloco de código abaixo, você precisará implementar o seguinte:\n",
    " - Atribuir `new_data` a uma cópia dos dados ao remover o atributo da sua escolha utilizando a função `DataFrame.drop`.\n",
    " - Utilizar `sklearn.cross_validation.train_test_split` para dividir o conjunto de dados em conjuntos de treinamento e teste.\n",
    "   - Utilizar o atributo removido como seu rótulo alvo. Estabelecer um `test_size` de `0.25` e estebeleça um `random_state`.\n",
    " - Importar uma árvore de decisão regressora, estabelecer um `random_state` e ajustar o aprendiz nos dados de treinamento.\n",
    " - Reportar a pontuação da previsão do conjunto de teste utilizando a função regressora `score`."
   ]
  },
  {
   "cell_type": "code",
   "execution_count": 4,
   "metadata": {},
   "outputs": [
    {
     "name": "stdout",
     "output_type": "stream",
     "text": [
      "O coeficiente de determinação R^2 da predição é:  0.5966809660130179\n"
     ]
    }
   ],
   "source": [
    "from sklearn.model_selection import train_test_split\n",
    "from sklearn.tree import DecisionTreeRegressor\n",
    "\n",
    "# TODO: Fazer uma cópia do DataFrame utilizando a função 'drop' para soltar o atributo dado\n",
    "new_data = data.drop(['Grocery'], axis = 1)\n",
    "y = data['Grocery']\n",
    "\n",
    "# TODO: Dividir os dados em conjuntos de treinamento e teste utilizando o atributo dado como o alvo\n",
    "X_train, X_test, y_train, y_test = train_test_split(new_data, y, test_size = 0.25, random_state = 131)\n",
    "\n",
    "# TODO: Criar um árvore de decisão regressora e ajustá-la ao conjunto de treinamento\n",
    "regressor = DecisionTreeRegressor(random_state = 11)\n",
    "regressor.fit(X_train, y_train)\n",
    "\n",
    "# TODO: Reportar a pontuação da previsão utilizando o conjunto de teste\n",
    "score = regressor.score(X_test, y_test) \n",
    "print('O coeficiente de determinação R^2 da predição é: ', score)"
   ]
  },
  {
   "cell_type": "markdown",
   "metadata": {},
   "source": [
    "### Questão 2\n",
    "- Qual atributo você tentou prever?\n",
    "- Qual foi a pontuação da previsão reportada?\n",
    "- Esse atributo é necessário para identificar os hábitos de compra dos clientes? \n",
    "\n",
    "**Dica:** O coeficiente de determinação, `R^2`, é pontuado entre 0 e 1, sendo 1 o ajuste perfeito. Um `R^2` negativo indica que o modelo falhou em ajustar os dados. Se você obter um score baixo para um atributo em particular, isso nos faz acreditar que aquele ponto de atributo é difícil de ser previsto utilizando outros atributos, sendo assim um atributo importante quando considerarmos a relevância."
   ]
  },
  {
   "cell_type": "markdown",
   "metadata": {},
   "source": [
    "**Resposta:** Grocery. Score igual a 0.59668. Devido a um valor relativamente alto de score, o atributo pode ser previsto através dos outros atributos."
   ]
  },
  {
   "cell_type": "markdown",
   "metadata": {},
   "source": [
    "### Visualizando a Distribuição de Atributos\n",
    "Para entender melhor o conjunto de dados, você pode construir uma matriz de dispersão de cada um dos seis atributos dos produtos presentes nos dados. Se você perceber que o atributo que você tentou prever acima é relevante para identificar um cliente específico, então a matriz de dispersão abaixo pode não mostrar nenhuma relação entre o atributo e os outros. Da mesma forma, se você acredita que o atributo não é relevante para identificar um cliente específico, a matriz de dispersão pode mostrar uma relação entre aquele e outros atributos dos dados. Execute o bloco de código abaixo para produzir uma matriz de dispersão."
   ]
  },
  {
   "cell_type": "code",
   "execution_count": 15,
   "metadata": {},
   "outputs": [
    {
     "ename": "AttributeError",
     "evalue": "module 'pandas' has no attribute 'scatter_matrix'",
     "output_type": "error",
     "traceback": [
      "\u001b[1;31m---------------------------------------------------------------------------\u001b[0m",
      "\u001b[1;31mAttributeError\u001b[0m                            Traceback (most recent call last)",
      "\u001b[1;32m<ipython-input-15-db9ee1e7c07b>\u001b[0m in \u001b[0;36m<module>\u001b[1;34m\u001b[0m\n\u001b[0;32m      2\u001b[0m \u001b[1;32mfrom\u001b[0m \u001b[0mpandas\u001b[0m \u001b[1;32mimport\u001b[0m \u001b[0mplotting\u001b[0m\u001b[1;33m\u001b[0m\u001b[1;33m\u001b[0m\u001b[0m\n\u001b[0;32m      3\u001b[0m \u001b[1;33m\u001b[0m\u001b[0m\n\u001b[1;32m----> 4\u001b[1;33m \u001b[0mpd\u001b[0m\u001b[1;33m.\u001b[0m\u001b[0mscatter_matrix\u001b[0m\u001b[1;33m(\u001b[0m\u001b[0mdata\u001b[0m\u001b[1;33m,\u001b[0m \u001b[0malpha\u001b[0m \u001b[1;33m=\u001b[0m \u001b[1;36m0.3\u001b[0m\u001b[1;33m,\u001b[0m \u001b[0mfigsize\u001b[0m \u001b[1;33m=\u001b[0m \u001b[1;33m(\u001b[0m\u001b[1;36m14\u001b[0m\u001b[1;33m,\u001b[0m\u001b[1;36m8\u001b[0m\u001b[1;33m)\u001b[0m\u001b[1;33m,\u001b[0m \u001b[0mdiagonal\u001b[0m \u001b[1;33m=\u001b[0m \u001b[1;34m'kde'\u001b[0m\u001b[1;33m)\u001b[0m\u001b[1;33m\u001b[0m\u001b[1;33m\u001b[0m\u001b[0m\n\u001b[0m\u001b[0;32m      5\u001b[0m \u001b[1;33m\u001b[0m\u001b[0m\n\u001b[0;32m      6\u001b[0m \u001b[0mdata\u001b[0m\u001b[1;33m.\u001b[0m\u001b[0mcorr\u001b[0m\u001b[1;33m(\u001b[0m\u001b[0mmethod\u001b[0m \u001b[1;33m=\u001b[0m \u001b[1;34m'pearson'\u001b[0m\u001b[1;33m)\u001b[0m\u001b[1;33m\u001b[0m\u001b[1;33m\u001b[0m\u001b[0m\n",
      "\u001b[1;31mAttributeError\u001b[0m: module 'pandas' has no attribute 'scatter_matrix'"
     ]
    }
   ],
   "source": [
    "# Produza uma matriz de dispersão para cada um dos pares de atributos dos dados\n",
    "from pandas import plotting\n",
    "\n",
    "pd.scatter_matrix(data, alpha = 0.3, figsize = (14,8), diagonal = 'kde')\n",
    "\n",
    "data.corr(method = 'pearson')"
   ]
  },
  {
   "cell_type": "markdown",
   "metadata": {},
   "source": [
    "### Questão 3:\n",
    "\n",
    "- Usando a matriz de dispersão como referência, discuta a distribuição da base de dados. Elabore sua resposta considerando a normalidade, _outliers_, a grande quantidade de pontos próximo de 0 e outras coisas que julgar importante. Se necessário, você pode realizar outros plots para complementar sua explicação.\n",
    "- Há algum par de atributos que mostra algum grau de correlação?\n",
    "- Como isso confirma ou nega a suspeita sobre relevância do atributo que você tentou prever?\n",
    "- Como os dados desses atributos são distribuidos?\n",
    "\n",
    "**Dica:** Os dados são distribuídos normalmente? Onde a maioria dos pontos estão? Você pode usar [corr()](https://pandas.pydata.org/pandas-docs/stable/generated/pandas.DataFrame.corr.html) para ver a correlação dos atributos e visualiza-los utilizando um [heatmap](http://seaborn.pydata.org/generated/seaborn.heatmap.html)(os dados que alimentam o heatmap seriam as correlações, por exemplo `data.corr()`)"
   ]
  },
  {
   "cell_type": "markdown",
   "metadata": {},
   "source": [
    "**Resposta:** Verifica-se uma distribuição similar (não normal) entre todos os atributos, com uma concentração de pontos próximos a zero. Percebe-se alguns outliers. Também verifica-se uma correlação do atributo \"Grocery\" com os atributos \"Milk\" e \"Detergents_Paper\", o que justifica o score de aproximadamente 0.6 da questão anterior ao tentar prever os valores para o atributo \"Grocery\". Isso confirma a suspeita da \"fraca\" relevância do atributo \"Grocery\"."
   ]
  },
  {
   "cell_type": "markdown",
   "metadata": {},
   "source": [
    "## Pré-processamento de Dados\n",
    "Nesta seção, você irá pré-processar os dados para criar uma melhor representação dos clientes ao executar um escalonamento dos dados e detectando os discrepantes. Pré-processar os dados é geralmente um passo fundamental para assegurar que os resultados obtidos na análise são importantes e significativos."
   ]
  },
  {
   "cell_type": "markdown",
   "metadata": {},
   "source": [
    "### Implementação: Escalonando Atributos\n",
    "Se os dados não são distribuídos normalmente, especialmente se a média e a mediana variam significativamente (indicando um grande desvio), é quase sempre [apropriado] ](http://econbrowser.com/archives/2014/02/use-of-logarithms-in-economics) aplicar um escalonamento não linear – particularmente para dados financeiros. Uma maneira de conseguir escalonar dessa forma é utilizando o [ teste Box-Cox](http://scipy.github.io/devdocs/generated/scipy.stats.boxcox.html), que calcula o melhor poder de transformação dos dados, que reduzem o desvio. Uma abordagem simplificada que pode funcionar na maioria dos casos seria aplicar o algoritmo natural.\n",
    "\n",
    "No bloco de código abaixo, você vai precisar implementar o seguinte:\n",
    " - Atribua uma cópia dos dados para o `log_data` depois de aplicar um algoritmo de escalonamento. Utilize a função `np.log` para isso.\n",
    " - Atribua uma cópia da amostra do dados para o `log_samples` depois de aplicar um algoritmo de escalonamento. Novamente, utilize o `np.log`."
   ]
  },
  {
   "cell_type": "code",
   "execution_count": 14,
   "metadata": {},
   "outputs": [
    {
     "ename": "AttributeError",
     "evalue": "module 'pandas' has no attribute 'scatter_matrix'",
     "output_type": "error",
     "traceback": [
      "\u001b[1;31m---------------------------------------------------------------------------\u001b[0m",
      "\u001b[1;31mAttributeError\u001b[0m                            Traceback (most recent call last)",
      "\u001b[1;32m<ipython-input-14-f59a534019e5>\u001b[0m in \u001b[0;36m<module>\u001b[1;34m\u001b[0m\n\u001b[0;32m      6\u001b[0m \u001b[1;33m\u001b[0m\u001b[0m\n\u001b[0;32m      7\u001b[0m \u001b[1;31m# Produza uma matriz de dispersão para cada par de atributos novos-transformados\u001b[0m\u001b[1;33m\u001b[0m\u001b[1;33m\u001b[0m\u001b[1;33m\u001b[0m\u001b[0m\n\u001b[1;32m----> 8\u001b[1;33m \u001b[0mpd\u001b[0m\u001b[1;33m.\u001b[0m\u001b[0mscatter_matrix\u001b[0m\u001b[1;33m(\u001b[0m\u001b[0mlog_data\u001b[0m\u001b[1;33m,\u001b[0m \u001b[0malpha\u001b[0m \u001b[1;33m=\u001b[0m \u001b[1;36m0.3\u001b[0m\u001b[1;33m,\u001b[0m \u001b[0mfigsize\u001b[0m \u001b[1;33m=\u001b[0m \u001b[1;33m(\u001b[0m\u001b[1;36m14\u001b[0m\u001b[1;33m,\u001b[0m\u001b[1;36m8\u001b[0m\u001b[1;33m)\u001b[0m\u001b[1;33m,\u001b[0m \u001b[0mdiagonal\u001b[0m \u001b[1;33m=\u001b[0m \u001b[1;34m'kde'\u001b[0m\u001b[1;33m)\u001b[0m\u001b[1;33m;\u001b[0m\u001b[1;33m\u001b[0m\u001b[1;33m\u001b[0m\u001b[0m\n\u001b[0m",
      "\u001b[1;31mAttributeError\u001b[0m: module 'pandas' has no attribute 'scatter_matrix'"
     ]
    }
   ],
   "source": [
    "# TODO: Escalone os dados utilizando o algoritmo natural\n",
    "log_data = np.log(data)\n",
    "\n",
    "# TODO: Escalone a amostra de dados utilizando o algoritmo natural\n",
    "log_samples = np.log(samples)\n",
    "\n",
    "# Produza uma matriz de dispersão para cada par de atributos novos-transformados\n",
    "pd.scatter_matrix(log_data, alpha = 0.3, figsize = (14,8), diagonal = 'kde');"
   ]
  },
  {
   "cell_type": "markdown",
   "metadata": {},
   "source": [
    "### Observação\n",
    "Após aplicar o algoritmo natural para o escalonamento dos dados, a distribuição para cada atributo deve parecer mais normalizado. Para muitos pares de atributos, você vai precisar identificar anteriormente como sendo correlacionados, observe aqui se essa correlação ainda está presente (e se está mais forte ou mais fraca que antes).\n",
    "\n",
    "Execute o código abaixo para ver como a amostra de dados mudou depois do algoritmo natural ter sido aplicado a ela."
   ]
  },
  {
   "cell_type": "code",
   "execution_count": 12,
   "metadata": {},
   "outputs": [
    {
     "ename": "NameError",
     "evalue": "name 'log_samples' is not defined",
     "output_type": "error",
     "traceback": [
      "\u001b[1;31m---------------------------------------------------------------------------\u001b[0m",
      "\u001b[1;31mNameError\u001b[0m                                 Traceback (most recent call last)",
      "\u001b[1;32m<ipython-input-12-ff32204ea36a>\u001b[0m in \u001b[0;36m<module>\u001b[1;34m\u001b[0m\n\u001b[0;32m      1\u001b[0m \u001b[1;31m# Mostre a amostra dados log-transformada\u001b[0m\u001b[1;33m\u001b[0m\u001b[1;33m\u001b[0m\u001b[1;33m\u001b[0m\u001b[0m\n\u001b[1;32m----> 2\u001b[1;33m \u001b[0mdisplay\u001b[0m\u001b[1;33m(\u001b[0m\u001b[0mlog_samples\u001b[0m\u001b[1;33m)\u001b[0m\u001b[1;33m\u001b[0m\u001b[1;33m\u001b[0m\u001b[0m\n\u001b[0m",
      "\u001b[1;31mNameError\u001b[0m: name 'log_samples' is not defined"
     ]
    }
   ],
   "source": [
    "# Mostre a amostra dados log-transformada\n",
    "display(log_samples)"
   ]
  },
  {
   "cell_type": "markdown",
   "metadata": {},
   "source": [
    "### Implementação: Detecção de valores atípicos (_Outlier_)\n",
    "Identificar dados discrepantes é extremamente importante no passo de pré-processamento de dados de qualquer análise. A presença de discrepantes podem enviesar resultados que levam em consideração os pontos de dados. Há muitas \"regras básicas\" que constituem um discrepante em um conjunto de dados. Aqui usaremos [o Método Turco para identificar valores atípicos](http://datapigtechnologies.com/blog/index.php/highlighting-outliers-in-your-data-with-the-tukey-method/): Um *passo do discrepante* é calculado 1,5 vezes a variação interquartil (IQR). Um ponto de dados com um atributo que está além de um passo de um discrepante do IQR para aquele atributo, ele é considerado anormal.\n",
    "\n",
    "No bloco de código abaixo, você vai precisar implementar o seguinte:\n",
    " - Atribuir o valor do 25º percentil do atributo dado para o `Q1`. Utilizar `np.percentile` para isso.\n",
    " - Atribuir o valor do 75º percentil do atributo dado para o `Q3`. Novamente, utilizar `np.percentile`.\n",
    " - Atribuir o cálculo de um passo do discrepante do atributo dado para o `step`.\n",
    " - Remover opcionalmentos os pontos de dados do conjunto de dados ao adicionar índices à lista de `outliers`.\n",
    "\n",
    "**NOTA:** Se você escolheu remover qualquer discrepante, tenha certeza que a amostra de dados não contém nenhum desses pontos!  \n",
    " Uma vez que você executou essa implementação, o conjunto de dado será armazenado na variável `good_data`!"
   ]
  },
  {
   "cell_type": "code",
   "execution_count": 9,
   "metadata": {},
   "outputs": [
    {
     "name": "stdout",
     "output_type": "stream",
     "text": [
      "Data points considered outliers for the feature 'Fresh':\n"
     ]
    },
    {
     "data": {
      "text/html": [
       "<div>\n",
       "<style scoped>\n",
       "    .dataframe tbody tr th:only-of-type {\n",
       "        vertical-align: middle;\n",
       "    }\n",
       "\n",
       "    .dataframe tbody tr th {\n",
       "        vertical-align: top;\n",
       "    }\n",
       "\n",
       "    .dataframe thead th {\n",
       "        text-align: right;\n",
       "    }\n",
       "</style>\n",
       "<table border=\"1\" class=\"dataframe\">\n",
       "  <thead>\n",
       "    <tr style=\"text-align: right;\">\n",
       "      <th></th>\n",
       "      <th>Fresh</th>\n",
       "      <th>Milk</th>\n",
       "      <th>Grocery</th>\n",
       "      <th>Frozen</th>\n",
       "      <th>Detergents_Paper</th>\n",
       "      <th>Delicatessen</th>\n",
       "    </tr>\n",
       "  </thead>\n",
       "  <tbody>\n",
       "    <tr>\n",
       "      <th>65</th>\n",
       "      <td>4.442651</td>\n",
       "      <td>9.950323</td>\n",
       "      <td>10.732651</td>\n",
       "      <td>3.583519</td>\n",
       "      <td>10.095388</td>\n",
       "      <td>7.260523</td>\n",
       "    </tr>\n",
       "    <tr>\n",
       "      <th>66</th>\n",
       "      <td>2.197225</td>\n",
       "      <td>7.335634</td>\n",
       "      <td>8.911530</td>\n",
       "      <td>5.164786</td>\n",
       "      <td>8.151333</td>\n",
       "      <td>3.295837</td>\n",
       "    </tr>\n",
       "    <tr>\n",
       "      <th>81</th>\n",
       "      <td>5.389072</td>\n",
       "      <td>9.163249</td>\n",
       "      <td>9.575192</td>\n",
       "      <td>5.645447</td>\n",
       "      <td>8.964184</td>\n",
       "      <td>5.049856</td>\n",
       "    </tr>\n",
       "    <tr>\n",
       "      <th>95</th>\n",
       "      <td>1.098612</td>\n",
       "      <td>7.979339</td>\n",
       "      <td>8.740657</td>\n",
       "      <td>6.086775</td>\n",
       "      <td>5.407172</td>\n",
       "      <td>6.563856</td>\n",
       "    </tr>\n",
       "    <tr>\n",
       "      <th>96</th>\n",
       "      <td>3.135494</td>\n",
       "      <td>7.869402</td>\n",
       "      <td>9.001839</td>\n",
       "      <td>4.976734</td>\n",
       "      <td>8.262043</td>\n",
       "      <td>5.379897</td>\n",
       "    </tr>\n",
       "    <tr>\n",
       "      <th>128</th>\n",
       "      <td>4.941642</td>\n",
       "      <td>9.087834</td>\n",
       "      <td>8.248791</td>\n",
       "      <td>4.955827</td>\n",
       "      <td>6.967909</td>\n",
       "      <td>1.098612</td>\n",
       "    </tr>\n",
       "    <tr>\n",
       "      <th>171</th>\n",
       "      <td>5.298317</td>\n",
       "      <td>10.160530</td>\n",
       "      <td>9.894245</td>\n",
       "      <td>6.478510</td>\n",
       "      <td>9.079434</td>\n",
       "      <td>8.740337</td>\n",
       "    </tr>\n",
       "    <tr>\n",
       "      <th>193</th>\n",
       "      <td>5.192957</td>\n",
       "      <td>8.156223</td>\n",
       "      <td>9.917982</td>\n",
       "      <td>6.865891</td>\n",
       "      <td>8.633731</td>\n",
       "      <td>6.501290</td>\n",
       "    </tr>\n",
       "    <tr>\n",
       "      <th>218</th>\n",
       "      <td>2.890372</td>\n",
       "      <td>8.923191</td>\n",
       "      <td>9.629380</td>\n",
       "      <td>7.158514</td>\n",
       "      <td>8.475746</td>\n",
       "      <td>8.759669</td>\n",
       "    </tr>\n",
       "    <tr>\n",
       "      <th>304</th>\n",
       "      <td>5.081404</td>\n",
       "      <td>8.917311</td>\n",
       "      <td>10.117510</td>\n",
       "      <td>6.424869</td>\n",
       "      <td>9.374413</td>\n",
       "      <td>7.787382</td>\n",
       "    </tr>\n",
       "    <tr>\n",
       "      <th>305</th>\n",
       "      <td>5.493061</td>\n",
       "      <td>9.468001</td>\n",
       "      <td>9.088399</td>\n",
       "      <td>6.683361</td>\n",
       "      <td>8.271037</td>\n",
       "      <td>5.351858</td>\n",
       "    </tr>\n",
       "    <tr>\n",
       "      <th>338</th>\n",
       "      <td>1.098612</td>\n",
       "      <td>5.808142</td>\n",
       "      <td>8.856661</td>\n",
       "      <td>9.655090</td>\n",
       "      <td>2.708050</td>\n",
       "      <td>6.309918</td>\n",
       "    </tr>\n",
       "    <tr>\n",
       "      <th>353</th>\n",
       "      <td>4.762174</td>\n",
       "      <td>8.742574</td>\n",
       "      <td>9.961898</td>\n",
       "      <td>5.429346</td>\n",
       "      <td>9.069007</td>\n",
       "      <td>7.013016</td>\n",
       "    </tr>\n",
       "    <tr>\n",
       "      <th>355</th>\n",
       "      <td>5.247024</td>\n",
       "      <td>6.588926</td>\n",
       "      <td>7.606885</td>\n",
       "      <td>5.501258</td>\n",
       "      <td>5.214936</td>\n",
       "      <td>4.844187</td>\n",
       "    </tr>\n",
       "    <tr>\n",
       "      <th>357</th>\n",
       "      <td>3.610918</td>\n",
       "      <td>7.150701</td>\n",
       "      <td>10.011086</td>\n",
       "      <td>4.919981</td>\n",
       "      <td>8.816853</td>\n",
       "      <td>4.700480</td>\n",
       "    </tr>\n",
       "    <tr>\n",
       "      <th>412</th>\n",
       "      <td>4.574711</td>\n",
       "      <td>8.190077</td>\n",
       "      <td>9.425452</td>\n",
       "      <td>4.584967</td>\n",
       "      <td>7.996317</td>\n",
       "      <td>4.127134</td>\n",
       "    </tr>\n",
       "  </tbody>\n",
       "</table>\n",
       "</div>"
      ],
      "text/plain": [
       "        Fresh       Milk    Grocery    Frozen  Detergents_Paper  Delicatessen\n",
       "65   4.442651   9.950323  10.732651  3.583519         10.095388      7.260523\n",
       "66   2.197225   7.335634   8.911530  5.164786          8.151333      3.295837\n",
       "81   5.389072   9.163249   9.575192  5.645447          8.964184      5.049856\n",
       "95   1.098612   7.979339   8.740657  6.086775          5.407172      6.563856\n",
       "96   3.135494   7.869402   9.001839  4.976734          8.262043      5.379897\n",
       "128  4.941642   9.087834   8.248791  4.955827          6.967909      1.098612\n",
       "171  5.298317  10.160530   9.894245  6.478510          9.079434      8.740337\n",
       "193  5.192957   8.156223   9.917982  6.865891          8.633731      6.501290\n",
       "218  2.890372   8.923191   9.629380  7.158514          8.475746      8.759669\n",
       "304  5.081404   8.917311  10.117510  6.424869          9.374413      7.787382\n",
       "305  5.493061   9.468001   9.088399  6.683361          8.271037      5.351858\n",
       "338  1.098612   5.808142   8.856661  9.655090          2.708050      6.309918\n",
       "353  4.762174   8.742574   9.961898  5.429346          9.069007      7.013016\n",
       "355  5.247024   6.588926   7.606885  5.501258          5.214936      4.844187\n",
       "357  3.610918   7.150701  10.011086  4.919981          8.816853      4.700480\n",
       "412  4.574711   8.190077   9.425452  4.584967          7.996317      4.127134"
      ]
     },
     "metadata": {},
     "output_type": "display_data"
    },
    {
     "name": "stdout",
     "output_type": "stream",
     "text": [
      "Data points considered outliers for the feature 'Milk':\n"
     ]
    },
    {
     "data": {
      "text/html": [
       "<div>\n",
       "<style scoped>\n",
       "    .dataframe tbody tr th:only-of-type {\n",
       "        vertical-align: middle;\n",
       "    }\n",
       "\n",
       "    .dataframe tbody tr th {\n",
       "        vertical-align: top;\n",
       "    }\n",
       "\n",
       "    .dataframe thead th {\n",
       "        text-align: right;\n",
       "    }\n",
       "</style>\n",
       "<table border=\"1\" class=\"dataframe\">\n",
       "  <thead>\n",
       "    <tr style=\"text-align: right;\">\n",
       "      <th></th>\n",
       "      <th>Fresh</th>\n",
       "      <th>Milk</th>\n",
       "      <th>Grocery</th>\n",
       "      <th>Frozen</th>\n",
       "      <th>Detergents_Paper</th>\n",
       "      <th>Delicatessen</th>\n",
       "    </tr>\n",
       "  </thead>\n",
       "  <tbody>\n",
       "    <tr>\n",
       "      <th>86</th>\n",
       "      <td>10.039983</td>\n",
       "      <td>11.205013</td>\n",
       "      <td>10.377047</td>\n",
       "      <td>6.894670</td>\n",
       "      <td>9.906981</td>\n",
       "      <td>6.805723</td>\n",
       "    </tr>\n",
       "    <tr>\n",
       "      <th>98</th>\n",
       "      <td>6.220590</td>\n",
       "      <td>4.718499</td>\n",
       "      <td>6.656727</td>\n",
       "      <td>6.796824</td>\n",
       "      <td>4.025352</td>\n",
       "      <td>4.882802</td>\n",
       "    </tr>\n",
       "    <tr>\n",
       "      <th>154</th>\n",
       "      <td>6.432940</td>\n",
       "      <td>4.007333</td>\n",
       "      <td>4.919981</td>\n",
       "      <td>4.317488</td>\n",
       "      <td>1.945910</td>\n",
       "      <td>2.079442</td>\n",
       "    </tr>\n",
       "    <tr>\n",
       "      <th>356</th>\n",
       "      <td>10.029503</td>\n",
       "      <td>4.897840</td>\n",
       "      <td>5.384495</td>\n",
       "      <td>8.057377</td>\n",
       "      <td>2.197225</td>\n",
       "      <td>6.306275</td>\n",
       "    </tr>\n",
       "  </tbody>\n",
       "</table>\n",
       "</div>"
      ],
      "text/plain": [
       "         Fresh       Milk    Grocery    Frozen  Detergents_Paper  Delicatessen\n",
       "86   10.039983  11.205013  10.377047  6.894670          9.906981      6.805723\n",
       "98    6.220590   4.718499   6.656727  6.796824          4.025352      4.882802\n",
       "154   6.432940   4.007333   4.919981  4.317488          1.945910      2.079442\n",
       "356  10.029503   4.897840   5.384495  8.057377          2.197225      6.306275"
      ]
     },
     "metadata": {},
     "output_type": "display_data"
    },
    {
     "name": "stdout",
     "output_type": "stream",
     "text": [
      "Data points considered outliers for the feature 'Grocery':\n"
     ]
    },
    {
     "data": {
      "text/html": [
       "<div>\n",
       "<style scoped>\n",
       "    .dataframe tbody tr th:only-of-type {\n",
       "        vertical-align: middle;\n",
       "    }\n",
       "\n",
       "    .dataframe tbody tr th {\n",
       "        vertical-align: top;\n",
       "    }\n",
       "\n",
       "    .dataframe thead th {\n",
       "        text-align: right;\n",
       "    }\n",
       "</style>\n",
       "<table border=\"1\" class=\"dataframe\">\n",
       "  <thead>\n",
       "    <tr style=\"text-align: right;\">\n",
       "      <th></th>\n",
       "      <th>Fresh</th>\n",
       "      <th>Milk</th>\n",
       "      <th>Grocery</th>\n",
       "      <th>Frozen</th>\n",
       "      <th>Detergents_Paper</th>\n",
       "      <th>Delicatessen</th>\n",
       "    </tr>\n",
       "  </thead>\n",
       "  <tbody>\n",
       "    <tr>\n",
       "      <th>75</th>\n",
       "      <td>9.923192</td>\n",
       "      <td>7.036148</td>\n",
       "      <td>1.098612</td>\n",
       "      <td>8.390949</td>\n",
       "      <td>1.098612</td>\n",
       "      <td>6.882437</td>\n",
       "    </tr>\n",
       "    <tr>\n",
       "      <th>154</th>\n",
       "      <td>6.432940</td>\n",
       "      <td>4.007333</td>\n",
       "      <td>4.919981</td>\n",
       "      <td>4.317488</td>\n",
       "      <td>1.945910</td>\n",
       "      <td>2.079442</td>\n",
       "    </tr>\n",
       "  </tbody>\n",
       "</table>\n",
       "</div>"
      ],
      "text/plain": [
       "        Fresh      Milk   Grocery    Frozen  Detergents_Paper  Delicatessen\n",
       "75   9.923192  7.036148  1.098612  8.390949          1.098612      6.882437\n",
       "154  6.432940  4.007333  4.919981  4.317488          1.945910      2.079442"
      ]
     },
     "metadata": {},
     "output_type": "display_data"
    },
    {
     "name": "stdout",
     "output_type": "stream",
     "text": [
      "Data points considered outliers for the feature 'Frozen':\n"
     ]
    },
    {
     "data": {
      "text/html": [
       "<div>\n",
       "<style scoped>\n",
       "    .dataframe tbody tr th:only-of-type {\n",
       "        vertical-align: middle;\n",
       "    }\n",
       "\n",
       "    .dataframe tbody tr th {\n",
       "        vertical-align: top;\n",
       "    }\n",
       "\n",
       "    .dataframe thead th {\n",
       "        text-align: right;\n",
       "    }\n",
       "</style>\n",
       "<table border=\"1\" class=\"dataframe\">\n",
       "  <thead>\n",
       "    <tr style=\"text-align: right;\">\n",
       "      <th></th>\n",
       "      <th>Fresh</th>\n",
       "      <th>Milk</th>\n",
       "      <th>Grocery</th>\n",
       "      <th>Frozen</th>\n",
       "      <th>Detergents_Paper</th>\n",
       "      <th>Delicatessen</th>\n",
       "    </tr>\n",
       "  </thead>\n",
       "  <tbody>\n",
       "    <tr>\n",
       "      <th>38</th>\n",
       "      <td>8.431853</td>\n",
       "      <td>9.663261</td>\n",
       "      <td>9.723703</td>\n",
       "      <td>3.496508</td>\n",
       "      <td>8.847360</td>\n",
       "      <td>6.070738</td>\n",
       "    </tr>\n",
       "    <tr>\n",
       "      <th>57</th>\n",
       "      <td>8.597297</td>\n",
       "      <td>9.203618</td>\n",
       "      <td>9.257892</td>\n",
       "      <td>3.637586</td>\n",
       "      <td>8.932213</td>\n",
       "      <td>7.156177</td>\n",
       "    </tr>\n",
       "    <tr>\n",
       "      <th>65</th>\n",
       "      <td>4.442651</td>\n",
       "      <td>9.950323</td>\n",
       "      <td>10.732651</td>\n",
       "      <td>3.583519</td>\n",
       "      <td>10.095388</td>\n",
       "      <td>7.260523</td>\n",
       "    </tr>\n",
       "    <tr>\n",
       "      <th>145</th>\n",
       "      <td>10.000569</td>\n",
       "      <td>9.034080</td>\n",
       "      <td>10.457143</td>\n",
       "      <td>3.737670</td>\n",
       "      <td>9.440738</td>\n",
       "      <td>8.396155</td>\n",
       "    </tr>\n",
       "    <tr>\n",
       "      <th>175</th>\n",
       "      <td>7.759187</td>\n",
       "      <td>8.967632</td>\n",
       "      <td>9.382106</td>\n",
       "      <td>3.951244</td>\n",
       "      <td>8.341887</td>\n",
       "      <td>7.436617</td>\n",
       "    </tr>\n",
       "    <tr>\n",
       "      <th>264</th>\n",
       "      <td>6.978214</td>\n",
       "      <td>9.177714</td>\n",
       "      <td>9.645041</td>\n",
       "      <td>4.110874</td>\n",
       "      <td>8.696176</td>\n",
       "      <td>7.142827</td>\n",
       "    </tr>\n",
       "    <tr>\n",
       "      <th>325</th>\n",
       "      <td>10.395650</td>\n",
       "      <td>9.728181</td>\n",
       "      <td>9.519735</td>\n",
       "      <td>11.016479</td>\n",
       "      <td>7.148346</td>\n",
       "      <td>8.632128</td>\n",
       "    </tr>\n",
       "    <tr>\n",
       "      <th>420</th>\n",
       "      <td>8.402007</td>\n",
       "      <td>8.569026</td>\n",
       "      <td>9.490015</td>\n",
       "      <td>3.218876</td>\n",
       "      <td>8.827321</td>\n",
       "      <td>7.239215</td>\n",
       "    </tr>\n",
       "    <tr>\n",
       "      <th>429</th>\n",
       "      <td>9.060331</td>\n",
       "      <td>7.467371</td>\n",
       "      <td>8.183118</td>\n",
       "      <td>3.850148</td>\n",
       "      <td>4.430817</td>\n",
       "      <td>7.824446</td>\n",
       "    </tr>\n",
       "    <tr>\n",
       "      <th>439</th>\n",
       "      <td>7.932721</td>\n",
       "      <td>7.437206</td>\n",
       "      <td>7.828038</td>\n",
       "      <td>4.174387</td>\n",
       "      <td>6.167516</td>\n",
       "      <td>3.951244</td>\n",
       "    </tr>\n",
       "  </tbody>\n",
       "</table>\n",
       "</div>"
      ],
      "text/plain": [
       "         Fresh      Milk    Grocery     Frozen  Detergents_Paper  Delicatessen\n",
       "38    8.431853  9.663261   9.723703   3.496508          8.847360      6.070738\n",
       "57    8.597297  9.203618   9.257892   3.637586          8.932213      7.156177\n",
       "65    4.442651  9.950323  10.732651   3.583519         10.095388      7.260523\n",
       "145  10.000569  9.034080  10.457143   3.737670          9.440738      8.396155\n",
       "175   7.759187  8.967632   9.382106   3.951244          8.341887      7.436617\n",
       "264   6.978214  9.177714   9.645041   4.110874          8.696176      7.142827\n",
       "325  10.395650  9.728181   9.519735  11.016479          7.148346      8.632128\n",
       "420   8.402007  8.569026   9.490015   3.218876          8.827321      7.239215\n",
       "429   9.060331  7.467371   8.183118   3.850148          4.430817      7.824446\n",
       "439   7.932721  7.437206   7.828038   4.174387          6.167516      3.951244"
      ]
     },
     "metadata": {},
     "output_type": "display_data"
    },
    {
     "name": "stdout",
     "output_type": "stream",
     "text": [
      "Data points considered outliers for the feature 'Detergents_Paper':\n"
     ]
    },
    {
     "data": {
      "text/html": [
       "<div>\n",
       "<style scoped>\n",
       "    .dataframe tbody tr th:only-of-type {\n",
       "        vertical-align: middle;\n",
       "    }\n",
       "\n",
       "    .dataframe tbody tr th {\n",
       "        vertical-align: top;\n",
       "    }\n",
       "\n",
       "    .dataframe thead th {\n",
       "        text-align: right;\n",
       "    }\n",
       "</style>\n",
       "<table border=\"1\" class=\"dataframe\">\n",
       "  <thead>\n",
       "    <tr style=\"text-align: right;\">\n",
       "      <th></th>\n",
       "      <th>Fresh</th>\n",
       "      <th>Milk</th>\n",
       "      <th>Grocery</th>\n",
       "      <th>Frozen</th>\n",
       "      <th>Detergents_Paper</th>\n",
       "      <th>Delicatessen</th>\n",
       "    </tr>\n",
       "  </thead>\n",
       "  <tbody>\n",
       "    <tr>\n",
       "      <th>75</th>\n",
       "      <td>9.923192</td>\n",
       "      <td>7.036148</td>\n",
       "      <td>1.098612</td>\n",
       "      <td>8.390949</td>\n",
       "      <td>1.098612</td>\n",
       "      <td>6.882437</td>\n",
       "    </tr>\n",
       "    <tr>\n",
       "      <th>161</th>\n",
       "      <td>9.428190</td>\n",
       "      <td>6.291569</td>\n",
       "      <td>5.645447</td>\n",
       "      <td>6.995766</td>\n",
       "      <td>1.098612</td>\n",
       "      <td>7.711101</td>\n",
       "    </tr>\n",
       "  </tbody>\n",
       "</table>\n",
       "</div>"
      ],
      "text/plain": [
       "        Fresh      Milk   Grocery    Frozen  Detergents_Paper  Delicatessen\n",
       "75   9.923192  7.036148  1.098612  8.390949          1.098612      6.882437\n",
       "161  9.428190  6.291569  5.645447  6.995766          1.098612      7.711101"
      ]
     },
     "metadata": {},
     "output_type": "display_data"
    },
    {
     "name": "stdout",
     "output_type": "stream",
     "text": [
      "Data points considered outliers for the feature 'Delicatessen':\n"
     ]
    },
    {
     "data": {
      "text/html": [
       "<div>\n",
       "<style scoped>\n",
       "    .dataframe tbody tr th:only-of-type {\n",
       "        vertical-align: middle;\n",
       "    }\n",
       "\n",
       "    .dataframe tbody tr th {\n",
       "        vertical-align: top;\n",
       "    }\n",
       "\n",
       "    .dataframe thead th {\n",
       "        text-align: right;\n",
       "    }\n",
       "</style>\n",
       "<table border=\"1\" class=\"dataframe\">\n",
       "  <thead>\n",
       "    <tr style=\"text-align: right;\">\n",
       "      <th></th>\n",
       "      <th>Fresh</th>\n",
       "      <th>Milk</th>\n",
       "      <th>Grocery</th>\n",
       "      <th>Frozen</th>\n",
       "      <th>Detergents_Paper</th>\n",
       "      <th>Delicatessen</th>\n",
       "    </tr>\n",
       "  </thead>\n",
       "  <tbody>\n",
       "    <tr>\n",
       "      <th>66</th>\n",
       "      <td>2.197225</td>\n",
       "      <td>7.335634</td>\n",
       "      <td>8.911530</td>\n",
       "      <td>5.164786</td>\n",
       "      <td>8.151333</td>\n",
       "      <td>3.295837</td>\n",
       "    </tr>\n",
       "    <tr>\n",
       "      <th>109</th>\n",
       "      <td>7.248504</td>\n",
       "      <td>9.724899</td>\n",
       "      <td>10.274568</td>\n",
       "      <td>6.511745</td>\n",
       "      <td>6.728629</td>\n",
       "      <td>1.098612</td>\n",
       "    </tr>\n",
       "    <tr>\n",
       "      <th>128</th>\n",
       "      <td>4.941642</td>\n",
       "      <td>9.087834</td>\n",
       "      <td>8.248791</td>\n",
       "      <td>4.955827</td>\n",
       "      <td>6.967909</td>\n",
       "      <td>1.098612</td>\n",
       "    </tr>\n",
       "    <tr>\n",
       "      <th>137</th>\n",
       "      <td>8.034955</td>\n",
       "      <td>8.997147</td>\n",
       "      <td>9.021840</td>\n",
       "      <td>6.493754</td>\n",
       "      <td>6.580639</td>\n",
       "      <td>3.583519</td>\n",
       "    </tr>\n",
       "    <tr>\n",
       "      <th>142</th>\n",
       "      <td>10.519646</td>\n",
       "      <td>8.875147</td>\n",
       "      <td>9.018332</td>\n",
       "      <td>8.004700</td>\n",
       "      <td>2.995732</td>\n",
       "      <td>1.098612</td>\n",
       "    </tr>\n",
       "    <tr>\n",
       "      <th>154</th>\n",
       "      <td>6.432940</td>\n",
       "      <td>4.007333</td>\n",
       "      <td>4.919981</td>\n",
       "      <td>4.317488</td>\n",
       "      <td>1.945910</td>\n",
       "      <td>2.079442</td>\n",
       "    </tr>\n",
       "    <tr>\n",
       "      <th>183</th>\n",
       "      <td>10.514529</td>\n",
       "      <td>10.690808</td>\n",
       "      <td>9.911952</td>\n",
       "      <td>10.505999</td>\n",
       "      <td>5.476464</td>\n",
       "      <td>10.777768</td>\n",
       "    </tr>\n",
       "    <tr>\n",
       "      <th>184</th>\n",
       "      <td>5.789960</td>\n",
       "      <td>6.822197</td>\n",
       "      <td>8.457443</td>\n",
       "      <td>4.304065</td>\n",
       "      <td>5.811141</td>\n",
       "      <td>2.397895</td>\n",
       "    </tr>\n",
       "    <tr>\n",
       "      <th>187</th>\n",
       "      <td>7.798933</td>\n",
       "      <td>8.987447</td>\n",
       "      <td>9.192075</td>\n",
       "      <td>8.743372</td>\n",
       "      <td>8.148735</td>\n",
       "      <td>1.098612</td>\n",
       "    </tr>\n",
       "    <tr>\n",
       "      <th>203</th>\n",
       "      <td>6.368187</td>\n",
       "      <td>6.529419</td>\n",
       "      <td>7.703459</td>\n",
       "      <td>6.150603</td>\n",
       "      <td>6.860664</td>\n",
       "      <td>2.890372</td>\n",
       "    </tr>\n",
       "    <tr>\n",
       "      <th>233</th>\n",
       "      <td>6.871091</td>\n",
       "      <td>8.513988</td>\n",
       "      <td>8.106515</td>\n",
       "      <td>6.842683</td>\n",
       "      <td>6.013715</td>\n",
       "      <td>1.945910</td>\n",
       "    </tr>\n",
       "    <tr>\n",
       "      <th>285</th>\n",
       "      <td>10.602965</td>\n",
       "      <td>6.461468</td>\n",
       "      <td>8.188689</td>\n",
       "      <td>6.948897</td>\n",
       "      <td>6.077642</td>\n",
       "      <td>2.890372</td>\n",
       "    </tr>\n",
       "    <tr>\n",
       "      <th>289</th>\n",
       "      <td>10.663966</td>\n",
       "      <td>5.655992</td>\n",
       "      <td>6.154858</td>\n",
       "      <td>7.235619</td>\n",
       "      <td>3.465736</td>\n",
       "      <td>3.091042</td>\n",
       "    </tr>\n",
       "    <tr>\n",
       "      <th>343</th>\n",
       "      <td>7.431892</td>\n",
       "      <td>8.848509</td>\n",
       "      <td>10.177932</td>\n",
       "      <td>7.283448</td>\n",
       "      <td>9.646593</td>\n",
       "      <td>3.610918</td>\n",
       "    </tr>\n",
       "  </tbody>\n",
       "</table>\n",
       "</div>"
      ],
      "text/plain": [
       "         Fresh       Milk    Grocery     Frozen  Detergents_Paper  \\\n",
       "66    2.197225   7.335634   8.911530   5.164786          8.151333   \n",
       "109   7.248504   9.724899  10.274568   6.511745          6.728629   \n",
       "128   4.941642   9.087834   8.248791   4.955827          6.967909   \n",
       "137   8.034955   8.997147   9.021840   6.493754          6.580639   \n",
       "142  10.519646   8.875147   9.018332   8.004700          2.995732   \n",
       "154   6.432940   4.007333   4.919981   4.317488          1.945910   \n",
       "183  10.514529  10.690808   9.911952  10.505999          5.476464   \n",
       "184   5.789960   6.822197   8.457443   4.304065          5.811141   \n",
       "187   7.798933   8.987447   9.192075   8.743372          8.148735   \n",
       "203   6.368187   6.529419   7.703459   6.150603          6.860664   \n",
       "233   6.871091   8.513988   8.106515   6.842683          6.013715   \n",
       "285  10.602965   6.461468   8.188689   6.948897          6.077642   \n",
       "289  10.663966   5.655992   6.154858   7.235619          3.465736   \n",
       "343   7.431892   8.848509  10.177932   7.283448          9.646593   \n",
       "\n",
       "     Delicatessen  \n",
       "66       3.295837  \n",
       "109      1.098612  \n",
       "128      1.098612  \n",
       "137      3.583519  \n",
       "142      1.098612  \n",
       "154      2.079442  \n",
       "183     10.777768  \n",
       "184      2.397895  \n",
       "187      1.098612  \n",
       "203      2.890372  \n",
       "233      1.945910  \n",
       "285      2.890372  \n",
       "289      3.091042  \n",
       "343      3.610918  "
      ]
     },
     "metadata": {},
     "output_type": "display_data"
    }
   ],
   "source": [
    "# Para cada atributo encontre os pontos de dados com máximos valores altos e baixos\n",
    "for feature in log_data.keys():\n",
    "    \n",
    "    # TODO: Calcule Q1 (25º percentil dos dados) para o atributo dado\n",
    "    Q1 = np.percentile(log_data[feature], 25)\n",
    "    \n",
    "    # TODO: Calcule Q3 (75º percentil dos dados) para o atributo dado\n",
    "    Q3 = np.percentile(log_data[feature], 75)\n",
    "    \n",
    "    # TODO: Utilize a amplitude interquartil para calcular o passo do discrepante (1,5 vezes a variação interquartil)\n",
    "    step = 1.5*(Q3 - Q1)\n",
    "    \n",
    "    # Mostre os discrepantes\n",
    "    print (\"Data points considered outliers for the feature '{}':\".format(feature))\n",
    "    display(log_data[~((log_data[feature] >= Q1 - step) & (log_data[feature] <= Q3 + step))])\n",
    "    \n",
    "# OPCIONAL: Selecione os índices dos pontos de dados que você deseja remover\n",
    "outliers  = [86,75,128, 154,325,75,161,183]\n",
    "\n",
    "# Remova os valores atí, caso nenhum tenha sido especificado\n",
    "good_data = log_data.drop(log_data.index[outliers]).reset_index(drop = True)"
   ]
  },
  {
   "cell_type": "markdown",
   "metadata": {},
   "source": [
    "### Questão 4\n",
    "- Há alguns pontos de dado considerados discrepantes de mais de um atributo baseado na definição acima?\n",
    "- Esses pontos de dados deveriam ser removidos do conjunto?\n",
    "- Se qualquer ponto de dados foi adicionado na lista `outliers` para ser removido, explique por quê."
   ]
  },
  {
   "cell_type": "markdown",
   "metadata": {},
   "source": [
    "**Resposta:** Sim. Sim, pois outliers podem enviesar os resultados. Geralmente, eles ocorrem devido a causas especiais que ocorrem esporadicamente e não devem ser consideradas para a previsão."
   ]
  },
  {
   "cell_type": "markdown",
   "metadata": {},
   "source": [
    "## Transformação de Atributo\n",
    "Nesta seção, você irá utilizar a análise de componentes principais (PCA) para elaborar conclusões sobre a estrutura subjacente de dados de clientes do atacado. Dado que ao utilizar a PCA em conjunto de dados calcula as dimensões que melhor maximizam a variância, nós iremos encontrar quais combinações de componentes de atributos melhor descrevem os consumidores."
   ]
  },
  {
   "cell_type": "markdown",
   "metadata": {},
   "source": [
    "### Implementação: PCA\n",
    "\n",
    "Agora que os dados foram escalonados em uma distribuição normal e qualquer discrepante necessário foi removido, podemos aplicar a PCA na `good_data` para descobrir qual dimensão dos dados melhor maximizam a variância dos atributos envolvidos. Além de descobrir essas dimensões, a PCA também irá reportar a *razão da variância explicada* de cada dimensão – quanta variância dentro dos dados é explicada pela dimensão sozinha. Note que o componente (dimensão) da PCA pode ser considerado como um novo \"feature\" do espaço, entretanto, ele é uma composição do atributo original presente nos dados.\n",
    "\n",
    "No bloco de código abaixo, você vai precisar implementar o seguinte:\n",
    " - Importar o `sklearn.decomposition.PCA` e atribuir os resultados de ajuste da PCA em seis dimensões com o `good_data` para o `pca`.\n",
    " - Aplicar a transformação da PCA na amostra de log-data `log_samples` utilizando `pca.transform`, e atribuir os resultados para o `pca_samples`."
   ]
  },
  {
   "cell_type": "code",
   "execution_count": 9,
   "metadata": {},
   "outputs": [
    {
     "data": {
      "image/png": "[encoded data removed]",
      "text/plain": [
       "<Figure size 1008x576 with 1 Axes>"
      ]
     },
     "metadata": {
      "needs_background": "light"
     },
     "output_type": "display_data"
    }
   ],
   "source": [
    "# TODO: Aplique a PCA ao ajustar os bons dados com o mesmo número de dimensões como atributos\n",
    "from sklearn.decomposition import PCA\n",
    "\n",
    "pca = PCA(n_components= 6, whiten=True, svd_solver='randomized')\n",
    "pca = pca.fit(good_data)\n",
    "\n",
    "# TODO: Transforme a amostra de data-log utilizando o ajuste da PCA acima\n",
    "pca_samples = pca.transform(log_samples)\n",
    "\n",
    "# Gere o plot dos resultados da PCA\n",
    "pca_results = vs.pca_results(good_data, pca)"
   ]
  },
  {
   "cell_type": "markdown",
   "metadata": {},
   "source": [
    "### Questão 5\n",
    "- Quanta variância nos dados é explicada **no total** pelo primeiro e segundo componente principal?\n",
    "- Quanta variância nos dados é explicada pelos quatro primeiros componentes principais?\n",
    "- Utilizando a visualização fornecida acima, discuta quais das quatro primeiras dimensões que melhor representam em termos de despesas dos clientes. Explique qual das quatro representa melhor em termos de consumo dos clientes.\n",
    "\n",
    "**Dica:** Uma melhora positiva dentro de uma dimensão específica corresponde a uma *melhora* do atributos de *pesos-positivos* e uma *piora* dos atributos de *pesos-negativos*. A razão de melhora ou piora é baseada nos pesos de atributos individuais."
   ]
  },
  {
   "cell_type": "markdown",
   "metadata": {},
   "source": [
    "**Resposta:** Através do primeiro componente principal, 0.4411 da variância é explicada. O segundo representa 0.2692 da variância. O acumulado de variância explicada através dos quatro primeiros componentes principais é igual a 0.9324, ou seja, quase a totalizade da variância. A primeira e a segunda dimensão juntas possuem grande representatividade sobre o comportamento das despesas dos clientes, sendo que os atributos \"Detergents_Paper\" e \"Fresh\" são os que possuem os maiores pesos."
   ]
  },
  {
   "cell_type": "markdown",
   "metadata": {},
   "source": [
    "### Observação\n",
    "Execute o código abaixo para ver como a amostra de log transformado mudou depois de receber a transformação da PCA aplicada a ele em seis dimensões. Observe o valor numérico para as quatro primeiras dimensões para os pontos da amostra. Considere se isso for consistente com sua interpretação inicial dos pontos da amostra."
   ]
  },
  {
   "cell_type": "code",
   "execution_count": 11,
   "metadata": {},
   "outputs": [
    {
     "ename": "NameError",
     "evalue": "name 'pca_samples' is not defined",
     "output_type": "error",
     "traceback": [
      "\u001b[1;31m---------------------------------------------------------------------------\u001b[0m",
      "\u001b[1;31mNameError\u001b[0m                                 Traceback (most recent call last)",
      "\u001b[1;32m<ipython-input-11-e196ee1dcace>\u001b[0m in \u001b[0;36m<module>\u001b[1;34m\u001b[0m\n\u001b[0;32m      1\u001b[0m \u001b[1;31m# Exiba a amostra de log-data depois de aplicada a tranformação da PCA\u001b[0m\u001b[1;33m\u001b[0m\u001b[1;33m\u001b[0m\u001b[1;33m\u001b[0m\u001b[0m\n\u001b[1;32m----> 2\u001b[1;33m \u001b[0mdisplay\u001b[0m\u001b[1;33m(\u001b[0m\u001b[0mpd\u001b[0m\u001b[1;33m.\u001b[0m\u001b[0mDataFrame\u001b[0m\u001b[1;33m(\u001b[0m\u001b[0mnp\u001b[0m\u001b[1;33m.\u001b[0m\u001b[0mround\u001b[0m\u001b[1;33m(\u001b[0m\u001b[0mpca_samples\u001b[0m\u001b[1;33m,\u001b[0m \u001b[1;36m4\u001b[0m\u001b[1;33m)\u001b[0m\u001b[1;33m,\u001b[0m \u001b[0mcolumns\u001b[0m \u001b[1;33m=\u001b[0m \u001b[0mpca_results\u001b[0m\u001b[1;33m.\u001b[0m\u001b[0mindex\u001b[0m\u001b[1;33m.\u001b[0m\u001b[0mvalues\u001b[0m\u001b[1;33m)\u001b[0m\u001b[1;33m)\u001b[0m\u001b[1;33m\u001b[0m\u001b[1;33m\u001b[0m\u001b[0m\n\u001b[0m",
      "\u001b[1;31mNameError\u001b[0m: name 'pca_samples' is not defined"
     ]
    }
   ],
   "source": [
    "# Exiba a amostra de log-data depois de aplicada a tranformação da PCA\n",
    "display(pd.DataFrame(np.round(pca_samples, 4), columns = pca_results.index.values))"
   ]
  },
  {
   "cell_type": "markdown",
   "metadata": {},
   "source": [
    "### Implementação: Redução da Dimensionalidade\n",
    "Ao utilizar um componente principal de análise, um dos objetivos principais é reduzir a dimensionalidade dos dados – na realidade, reduzindo a complexidade do problema. Redução de dimensionalidade tem um custo: Poucas dimensões utilizadas implicam em menor variância total dos dados que estão sendo explicados. Por causo disso, a *taxa de variância explicada cumulativa* é extremamente importante para saber como várias dimensões são necessárias para o problema. Além disso, se uma quantidade significativa de variância é explicada por apenas duas ou três dimensões, os dados reduzidos podem ser visualizados depois.\n",
    "\n",
    "No bloco de código abaixo, você vai precisar implementar o seguinte:\n",
    " - Atribuir os resultados de ajuste da PCA em duas dimensões com o `good_data` para o `pca`.\n",
    " - Atribuir a tranformação da PCA do `good_data` utilizando `pca.transform`, e atribuir os resultados para `reduced_data`.\n",
    " - Aplicar a transformação da PCA da amostra do log-data `log_samples` utilizando `pca.transform`, e atribuindo os resultados ao `pca_samples`."
   ]
  },
  {
   "cell_type": "code",
   "execution_count": 11,
   "metadata": {},
   "outputs": [],
   "source": [
    "# TODO: Aplique o PCA ao ajusta os bons dados com apenas duas dimensões\n",
    "pca = PCA(n_components = 2, whiten=True, svd_solver='randomized')\n",
    "pca = pca.fit(good_data)\n",
    "\n",
    "# TODO: Transforme os bons dados utilizando o ajuste do PCA acima\n",
    "reduced_data = pca.transform(good_data)\n",
    "\n",
    "# TODO: Transforme a amostre de log-data utilizando o ajuste de PCA acima\n",
    "pca_samples = pca.transform(log_samples)\n",
    "\n",
    "# Crie o DataFrame para os dados reduzidos\n",
    "reduced_data = pd.DataFrame(reduced_data, columns = ['Dimension 1', 'Dimension 2'])"
   ]
  },
  {
   "cell_type": "markdown",
   "metadata": {},
   "source": [
    "### Observação\n",
    "Execute o código abaixo para ver como a amostra de dados do log-transformado mudou depois de receber a transformação do PCA aplicada a ele em apenas duas dimensões. Observe como os valores das duas primeiras dimensões permanessem constantes quando comparados com a transformação do PCA em seis dimensões."
   ]
  },
  {
   "cell_type": "code",
   "execution_count": 12,
   "metadata": {},
   "outputs": [
    {
     "data": {
      "text/html": [
       "<div>\n",
       "<style scoped>\n",
       "    .dataframe tbody tr th:only-of-type {\n",
       "        vertical-align: middle;\n",
       "    }\n",
       "\n",
       "    .dataframe tbody tr th {\n",
       "        vertical-align: top;\n",
       "    }\n",
       "\n",
       "    .dataframe thead th {\n",
       "        text-align: right;\n",
       "    }\n",
       "</style>\n",
       "<table border=\"1\" class=\"dataframe\">\n",
       "  <thead>\n",
       "    <tr style=\"text-align: right;\">\n",
       "      <th></th>\n",
       "      <th>Dimension 1</th>\n",
       "      <th>Dimension 2</th>\n",
       "    </tr>\n",
       "  </thead>\n",
       "  <tbody>\n",
       "    <tr>\n",
       "      <th>0</th>\n",
       "      <td>-0.2936</td>\n",
       "      <td>-1.4881</td>\n",
       "    </tr>\n",
       "    <tr>\n",
       "      <th>1</th>\n",
       "      <td>-0.9500</td>\n",
       "      <td>0.7729</td>\n",
       "    </tr>\n",
       "    <tr>\n",
       "      <th>2</th>\n",
       "      <td>-1.4985</td>\n",
       "      <td>-0.9257</td>\n",
       "    </tr>\n",
       "  </tbody>\n",
       "</table>\n",
       "</div>"
      ],
      "text/plain": [
       "   Dimension 1  Dimension 2\n",
       "0      -0.2936      -1.4881\n",
       "1      -0.9500       0.7729\n",
       "2      -1.4985      -0.9257"
      ]
     },
     "metadata": {},
     "output_type": "display_data"
    }
   ],
   "source": [
    "# Exiba a amostra de log-data depois de aplicada a transformação da PCA em duas dimensões\n",
    "display(pd.DataFrame(np.round(pca_samples, 4), columns = ['Dimension 1', 'Dimension 2']))"
   ]
  },
  {
   "cell_type": "markdown",
   "metadata": {},
   "source": [
    "## Visualizando um Biplot\n",
    "Um biplot é um gráfico de dispersão onde cada ponto é representado por sua pontuação junto das componentes principais. Os eixos são as componentes principais (nesse caso, `Dimension 1` e `Dimenson 2`). Além disso, o biplot mostra a projeção dos atributos originais junto das componentes. Um biplot pode nos ajudar a interpretar a redução da dimensionalidade dos dados e descobrir relacionamentos entre as componentes principais e os atributos originais.\n",
    "\n",
    "Execute a célula abaixo para produzir um biplot com os dados de dimensionalidade reduzida."
   ]
  },
  {
   "cell_type": "code",
   "execution_count": 13,
   "metadata": {},
   "outputs": [
    {
     "data": {
      "text/plain": [
       "<matplotlib.axes._subplots.AxesSubplot at 0x1f4c556a860>"
      ]
     },
     "execution_count": 13,
     "metadata": {},
     "output_type": "execute_result"
    },
    {
     "data": {
      "image/png": "[encoded data removed]",
      "text/plain": [
       "<Figure size 1008x576 with 1 Axes>"
      ]
     },
     "metadata": {
      "needs_background": "light"
     },
     "output_type": "display_data"
    }
   ],
   "source": [
    "# Create a biplot\n",
    "vs.biplot(good_data, reduced_data, pca)"
   ]
  },
  {
   "cell_type": "markdown",
   "metadata": {},
   "source": [
    "## Clustering\n",
    "\n",
    "Nesta seção, você irá escolher utilizar entre o algoritmo de clustering K-Means ou o algoritmo de clustering do Modelo de Mistura Gaussiano para identificar as várias segmentações de clientes escondidos nos dados. Então você irá recuperar pontos de dados específicos do cluster para entender seus significados ao transformá-los de volta em suas dimensões e escalas originais. "
   ]
  },
  {
   "cell_type": "markdown",
   "metadata": {},
   "source": [
    "### Questão 6\n",
    "- Quais são as vantagens de utilizar o algoritmo de clustering K-Means?\n",
    "- Quais são as vantagens de utilizar o algoritmo de clustering do Modelo de Mistura Gaussiano?\n",
    "- Dadas as suas observações até agora sobre os dados de clientes da distribuidora, qual dos dois algoritmos você irá utilizar e por quê.\n",
    "\n",
    "**Dica: **Pense na diferença entre os clusters mais próximos ou mais isolados."
   ]
  },
  {
   "cell_type": "markdown",
   "metadata": {},
   "source": [
    "**Resposta:**\n",
    "Vantagens do algoritmo de clustering K-Means:\n",
    "- Tempo de processamento;\n",
    "- Melhor para dados de alta dimensão;\n",
    "- Mais fácil de interpretar e implementar.\n",
    "Vantagens do Modelo de Mistura Gaussiano:\n",
    "- Clusterização suave;\n",
    "- Flexibilidade da forma do cluster.\n",
    "A principal diferença entre K-Means e GMM (Gaussian Mixture Model) é que K-Means realiza uma forte atribuição (high assignment) ao definir que um ponto pertence a um cluster, enquanto que GMM realiza uma clusterização suave, para isso o algorítmo avalia se determinado ponto pertence a um cluster através do \"passo da expectativa\", o qual define a probabilidade de um ponto pertencer a cada cluster. Após isso, o modelo GGM realiza o passo de \"Maximização\" e enfim, o passo para avaliar a \"log-verossimilhança\", ou seja, se o modelo está aproximando-se da melhor definição de cluster.\n",
    "Com isso, para dados em que não há maior incerteza sobre em quais clusters cada ponto de dado deve pertencer, o Modelo de Mistura Gaussiano é preferido.\n",
    "Irei utilizar o Modelo de Mistura Gaussiano por não possuir clareza em relação ao pertencimento de cada datapoint para cada cluster. Além disso, com a redução de dimensionalidade realizada pelo ajuste de PCA, a princípio não irá haver problemas com performance do modelo. Caso houvesse, talvez seria melhor utilizar K-Means, visto que possui uma melhor performance para dados de alta dimensão."
   ]
  },
  {
   "cell_type": "markdown",
   "metadata": {},
   "source": [
    "### Implementação: Criando Clusters\n",
    "Dependendo do problema, o número de clusters que você espera que estejam nos dados podem já ser conhecidos. Quando um número de clusters não é conhecido *a priori*, não há garantia que um dado número de clusters melhor segmenta os dados, já que não é claro quais estruturas existem nos dados – se existem. Entretanto, podemos quantificar a \"eficiência\" de um clustering ao calcular o *coeficiente de silhueta* de cada ponto de dados. O [coeficiente de silhueta](http://scikit-learn.org/stable/modules/generated/sklearn.metrics.silhouette_score.html) para um ponto de dado mede quão similar ele é do seu cluster atribuído, de -1 (não similar) a 1 (similar). Calcular a *média* do coeficiente de silhueta fornece um método de pontuação simples de um dado clustering.\n",
    "\n",
    "No bloco de código abaixo, você vai precisar implementar o seguinte:\n",
    " - Ajustar um algoritmo de clustering para o `reduced_data` e atribui-lo ao `clusterer`.\n",
    " - Prever o cluster para cada ponto de dado no `reduced_data` utilizando o `clusterer.predict` e atribuindo eles ao `preds`.\n",
    " - Encontrar os centros do cluster utilizando o atributo respectivo do algoritmo e atribuindo eles ao `centers`.\n",
    " - Prever o cluster para cada amostra de pontos de dado no `pca_samples` e atribuindo eles ao `sample_preds`.\n",
    " - Importar sklearn.metrics.silhouette_score e calcular o coeficiente de silhueta do `reduced_data` contra o do `preds`.\n",
    "   - Atribuir o coeficiente de silhueta para o `score` e imprimir o resultado."
   ]
  },
  {
   "cell_type": "code",
   "execution_count": 14,
   "metadata": {},
   "outputs": [
    {
     "name": "stdout",
     "output_type": "stream",
     "text": [
      "O valor do score é:  0.38022144770811617\n"
     ]
    }
   ],
   "source": [
    "# TODO: Aplique o algoritmo de clustering de sua escolha aos dados reduzidos \n",
    "from sklearn.mixture import GaussianMixture\n",
    "from sklearn.metrics import silhouette_score \n",
    "\n",
    "clusterer = GaussianMixture(n_components = 2)\n",
    "clusterer.fit(reduced_data)\n",
    "\n",
    "# TODO: Preveja o cluster para cada ponto de dado\n",
    "preds = clusterer.predict(reduced_data)\n",
    "\n",
    "# TODO: Ache os centros do cluster\n",
    "centers = clusterer.means_\n",
    "\n",
    "# TODO: Preveja o cluster para cada amostra de pontos de dado transformados\n",
    "sample_preds = clusterer.predict(pca_samples)\n",
    "\n",
    "# TODO: Calcule a média do coeficiente de silhueta para o número de clusters escolhidos\n",
    "score = silhouette_score(reduced_data, preds)\n",
    "print('O valor do score é: ', score)"
   ]
  },
  {
   "cell_type": "markdown",
   "metadata": {},
   "source": [
    "### Questão 7\n",
    "- Reporte o coeficiente de silhueta para vários números de cluster que você tentou.\n",
    "- Dentre eles, qual a quantidade de clusters que tem a melhor pontuação de silhueta?"
   ]
  },
  {
   "cell_type": "markdown",
   "metadata": {},
   "source": [
    "**Resposta:** Número de clusters e seus respectivos coeficientes de silhueta:\n",
    "1. 5 clusters: 0.3093\n",
    "2. 4 clusters: 0.3144\n",
    "3. 3 clusters: 0.3743\n",
    "4. 2 clusters: 0.38022\n",
    "\n",
    "A melhor pontuação de silhueta é configurando o modelo para 2 clusters."
   ]
  },
  {
   "cell_type": "markdown",
   "metadata": {},
   "source": [
    "### Visualização de Cluster\n",
    "Uma vez que você escolheu o número ótimo de clusters para seu algoritmo de clustering utilizando o método de pontuação acima, agora você pode visualizar os resultados ao executar o bloco de código abaixo. Note que, para propósitos de experimentação, é de bom tom que você ajuste o número de clusters para o seu algoritmo de cluster para ver várias visualizações. A visualização final fornecida deve, entretanto, corresponder com o número ótimo de clusters. "
   ]
  },
  {
   "cell_type": "code",
   "execution_count": 15,
   "metadata": {},
   "outputs": [
    {
     "data": {
      "image/png": "[encoded data removed]",
      "text/plain": [
       "<Figure size 1008x576 with 1 Axes>"
      ]
     },
     "metadata": {
      "needs_background": "light"
     },
     "output_type": "display_data"
    }
   ],
   "source": [
    "# Mostre os resultados do clustering da implementação\n",
    "vs.cluster_results(reduced_data, preds, centers, pca_samples)"
   ]
  },
  {
   "cell_type": "markdown",
   "metadata": {},
   "source": [
    "### Implementação: Recuperação de Dados\n",
    "Cada cluster apresentado na visualização acima tem um ponto central. Esses centros (ou médias) não são especificamente pontos de dados não específicos dos dados, em vez disso, são *as médias* de todos os pontos estimados em seus respectivos clusters. Para o problema de criar segmentações de clientes, o ponto central do cluster corresponde *a média dos clientes daquele segmento*. Já que os dados foram atualmente reduzidos em dimensões e escalas por um algoritmo, nós podemos recuperar a despesa representativa do cliente desses pontos de dados ao aplicar transformações inversas.\n",
    "\n",
    "No bloco de código abaixo, você vai precisar implementar o seguinte:\n",
    " - Aplicar a transformação inversa para o `centers` utilizando o `pca.inverse_transform`, e atribuir novos centros para o `log_centers`.\n",
    " - Aplicar a função inversa do `np.log` para o `log_centers` utilizando `np.exp`, e atribuir os verdadeiros centros para o `true_centers`.\n"
   ]
  },
  {
   "cell_type": "code",
   "execution_count": 16,
   "metadata": {},
   "outputs": [
    {
     "data": {
      "text/html": [
       "<div>\n",
       "<style scoped>\n",
       "    .dataframe tbody tr th:only-of-type {\n",
       "        vertical-align: middle;\n",
       "    }\n",
       "\n",
       "    .dataframe tbody tr th {\n",
       "        vertical-align: top;\n",
       "    }\n",
       "\n",
       "    .dataframe thead th {\n",
       "        text-align: right;\n",
       "    }\n",
       "</style>\n",
       "<table border=\"1\" class=\"dataframe\">\n",
       "  <thead>\n",
       "    <tr style=\"text-align: right;\">\n",
       "      <th></th>\n",
       "      <th>Fresh</th>\n",
       "      <th>Milk</th>\n",
       "      <th>Grocery</th>\n",
       "      <th>Frozen</th>\n",
       "      <th>Detergents_Paper</th>\n",
       "      <th>Delicatessen</th>\n",
       "    </tr>\n",
       "  </thead>\n",
       "  <tbody>\n",
       "    <tr>\n",
       "      <th>Segment 0</th>\n",
       "      <td>8982.0</td>\n",
       "      <td>2097.0</td>\n",
       "      <td>2770.0</td>\n",
       "      <td>2060.0</td>\n",
       "      <td>362.0</td>\n",
       "      <td>708.0</td>\n",
       "    </tr>\n",
       "    <tr>\n",
       "      <th>Segment 1</th>\n",
       "      <td>3205.0</td>\n",
       "      <td>7663.0</td>\n",
       "      <td>12149.0</td>\n",
       "      <td>821.0</td>\n",
       "      <td>4644.0</td>\n",
       "      <td>955.0</td>\n",
       "    </tr>\n",
       "  </tbody>\n",
       "</table>\n",
       "</div>"
      ],
      "text/plain": [
       "            Fresh    Milk  Grocery  Frozen  Detergents_Paper  Delicatessen\n",
       "Segment 0  8982.0  2097.0   2770.0  2060.0             362.0         708.0\n",
       "Segment 1  3205.0  7663.0  12149.0   821.0            4644.0         955.0"
      ]
     },
     "metadata": {},
     "output_type": "display_data"
    }
   ],
   "source": [
    "# TODO: Transforme inversamento os centros\n",
    "log_centers = pca.inverse_transform(centers)\n",
    "\n",
    "# TODO: Exponencie os centros\n",
    "true_centers = np.exp(log_centers)\n",
    "\n",
    "# Mostre os verdadeiros centros\n",
    "segments = ['Segment {}'.format(i) for i in range(0,len(centers))]\n",
    "true_centers = pd.DataFrame(np.round(true_centers), columns = data.keys())\n",
    "true_centers.index = segments\n",
    "display(true_centers)"
   ]
  },
  {
   "cell_type": "markdown",
   "metadata": {},
   "source": [
    "### Questão 8\n",
    "- Considere o gasto total de compra de cada categoria de produto para os pontos de dados representativos acima e reporte a descrição estatística do conjunto de dados no começo do projeto. Qual conjunto de estabelecimentos cada segmentação de clientes representa?\n",
    "\n",
    "**Dica:** Um cliente que é atribuído ao `'Cluster X'` deve se identificar melhor com os estabelecimentos representados pelo conjunto de atributos do `'Segment X'`. Pense no que cada segmento representa em termos do ponto de atributo escolhido."
   ]
  },
  {
   "cell_type": "markdown",
   "metadata": {},
   "source": [
    "**Resposta:** Um cliente que é atribuído ao Cluster 0 deve se identificar melhor com negócios relativos a vendas de alimentos frescos, tal como fruteiras ou mesmo açougues. Esse segmento possui maiores despesas nos atributos 'Fresh' e 'Frozen'. Já um cliente atribuído ao Cluster 1 deve pertencer ao segmento de mercados, por apresentar maiores despesas nos atributos 'Milk', 'Grocery' e 'Detergents_Paper'."
   ]
  },
  {
   "cell_type": "markdown",
   "metadata": {},
   "source": [
    "### Questão 9\n",
    "- Para cada amostra de ponto, qual segmento de cliente da **Questão 8** é melhor representado?\n",
    "- As previsões para cada amostra de ponto são consistentes com isso?\n",
    "\n",
    "Execute o bloco de códigos abaixo para saber a previsão de segmento para cada amostra de ponto."
   ]
  },
  {
   "cell_type": "code",
   "execution_count": 17,
   "metadata": {},
   "outputs": [
    {
     "name": "stdout",
     "output_type": "stream",
     "text": [
      "Sample point 0 predicted to be in Cluster 0\n",
      "Sample point 1 predicted to be in Cluster 1\n",
      "Sample point 2 predicted to be in Cluster 1\n"
     ]
    }
   ],
   "source": [
    "# Mostre as previsões\n",
    "for i, pred in enumerate(sample_preds):\n",
    "    print (\"Sample point\", i, \"predicted to be in Cluster\", pred)"
   ]
  },
  {
   "cell_type": "markdown",
   "metadata": {},
   "source": [
    "**Resposta:** A primeira amostra é prevista que esteja no Cluster 0. Já a segunda e terceira no Cluster 1.\n",
    "As previsões para as amostras 0 e 2 são consistentes, visto que a primeira amostra possui maiores despesas com comidas frescas (atributo 'Fresh') e a terceira com papel detergente ('detergents_paper'), o que configura ambas com fortes tendências para serem de clusters diversos, pois os atributos \"principais, ou seja, com maiores variações são justamente os citados acima. Em relação a amostra 1, a incerteza é maior, visto que não possui forte tendência em relação a nenhum atributo. "
   ]
  },
  {
   "cell_type": "markdown",
   "metadata": {},
   "source": [
    "## Conclusão"
   ]
  },
  {
   "cell_type": "markdown",
   "metadata": {},
   "source": [
    "Nesta seção final, você irá investigar maneiras de fazer uso dos dados que estão em clusters. Primeiro você vai considerar quais são os diferentes grupos de clientes, a **segmentação de clientes**, que pode ser afetada diferentemente por um esquema de entrega específico. Depois, você vai considerar como dar um rótulo para cada cliente (qual *segmento* aquele cliente pertence), podendo fornecer atributos adicionais sobre os dados do cliente. Por último, você vai comparar a **segmentação de clientes** com uma variável escondida nos dados, para ver se o cluster identificou certos tipos de relação."
   ]
  },
  {
   "cell_type": "markdown",
   "metadata": {
    "collapsed": true
   },
   "source": [
    "### Questão 10\n",
    "Empresas sempre irão executar os [testes A/B](https://en.wikipedia.org/wiki/A/B_testing) ao fazer pequenas mudanças em seus produtos ou serviços para determinar se ao fazer aquela mudança, ela afetará seus clientes de maneira positiva ou negativa. O distribuidor de atacado está considerando mudar seu serviço de entrega de atuais 5 dias por semana para 3 dias na semana. Mas o distribuidor apenas fará essa mudança no sistema de entrega para os clientes que reagirem positivamente.\n",
    "- Como o distribuidor de atacado pode utilizar a segmentação de clientes para determinar quais clientes, se há algum, que serão alcançados positivamente à mudança no serviço de entrega?\n",
    "\n",
    "**Dica:** Podemos supor que as mudanças afetam todos os clientes igualmente? Como podemos determinar quais grupos de clientes são os mais afetados?"
   ]
  },
  {
   "cell_type": "markdown",
   "metadata": {},
   "source": [
    "**Resposta:** O distribuidor pode selecionar diferentes amostras entre os dois segmentos de clientes definidos pela clusterização e realizar testes entre esses clientes para ver qual segmento responde melhor a alteração do tempo de entrega. Adicionalmente, em sua seleção de clientes para testes, poderia separar as amostras entre clientes que possuem maiores e menores despesas em cada atributo, para verificar a relevância que cada atributo possui para o impacto no resultado com a mudança no serviço de entrega."
   ]
  },
  {
   "cell_type": "markdown",
   "metadata": {},
   "source": [
    "### Questão 11\n",
    "A estrutura adicional é derivada dos dados não rotulados originalmente quando utilizado as técnicas de clustering. Dado que cada cliente tem um **segmento de cliente** que melhor se identifica (dependendo do algoritmo de clustering aplicado), podemos considerar os *segmentos de cliente* como um **atributo construído (engineered)** para os dados. Assumindo que o distribuidor de atacado adquiriu recentemente dez novos clientes e cada um deles forneceu estimativas dos gastos anuais para cada categoria de produto. Sabendo dessas estimativas, o distribuidor de atacado quer classificar cada novo cliente em uma **segmentação de clientes** para determinar o serviço de entrega mais apropriado.  \n",
    "- Como o distribuidor de atacado pode rotular os novos clientes utilizando apenas a estimativa de despesas com produtos e os dados de **segmentação de clientes**.\n",
    "\n",
    "**Dica:** Um aprendiz supervisionado pode ser utilizado para treinar os clientes originais. Qual seria a variável alvo?"
   ]
  },
  {
   "cell_type": "markdown",
   "metadata": {},
   "source": [
    "**Resposta:** Poderia ser utilizado um algoritmo de aprendizagem supervisionada, visto que agora sabe-se que a variável alvo é se o cliente pertence ao Cluster 0 ou Cluster 1. Para isso, basta criar um Dataframe contendo todos os clientes previstos pela clusterização, com seus dados de despesas para cada atributo sendo a variável \"X\" e o Cluster a que pertence para a variável \"y\". Assim sendo, um algoritmo de aprendizagem supervisionada (ex.: Árvore de Decisão) poderia ser treinado para depois realizar previsões em novos clientes que são adicionados a base de dados."
   ]
  },
  {
   "cell_type": "markdown",
   "metadata": {},
   "source": [
    "### Visualizando Distribuições Subjacentes\n",
    "\n",
    "No começo deste projeto, foi discutido que os atributos `'Channel'` e `'Region'` seriam excluídos do conjunto de dados, então as categorias de produtos do cliente seriam enfatizadas na análise. Ao reintroduzir o atributo `'Channel'` ao conjunto de dados, uma estrutura interessante surge quando consideramos a mesma redução de dimensionalidade da PCA aplicada anteriormente no conjunto de dados original.\n",
    "\n",
    "Execute o código abaixo para qual ponto de dados é rotulado como`'HoReCa'` (Hotel/Restaurante/Café) ou o espaço reduzido `'Retail'`. Al´´em disso, você vai encontrar as amostras de pontos circuladas no corpo, que identificará seu rótulo."
   ]
  },
  {
   "cell_type": "code",
   "execution_count": 18,
   "metadata": {
    "scrolled": false
   },
   "outputs": [
    {
     "data": {
      "image/png": "[encoded data removed]",
      "text/plain": [
       "<Figure size 1008x576 with 1 Axes>"
      ]
     },
     "metadata": {
      "needs_background": "light"
     },
     "output_type": "display_data"
    }
   ],
   "source": [
    "# Mostre os resultados do clustering baseado nos dados do 'Channel'\n",
    "vs.channel_results(reduced_data, outliers, pca_samples)"
   ]
  },
  {
   "cell_type": "markdown",
   "metadata": {},
   "source": [
    "### Questão 12\n",
    "- Quão bom é o algoritmo de clustering e o números de clusters que você escolheu comparado a essa distribuição subjacente de clientes de Hotel/Restaurante/Café a um cliente Varejista?\n",
    "- Há segmentos de clientes que podem ser classificados puramente como 'Varejistas' ou 'Hotéis/Restaurantes/Cafés' nessa distribuição?\n",
    "- Você consideraria essas classificações como consistentes comparada a sua definição de segmentação de clientes anterior?*"
   ]
  },
  {
   "cell_type": "markdown",
   "metadata": {},
   "source": [
    "**Resposta:** \n",
    "O resultado do algoritmo de clustering utilizado (GMM) utilizado é muito similar a distribuição acima, o que demonstra uma forte correlação entre o tipo de negócio e as despesas em cada atributo. Com isso, conclui-se que o algoritmo de clusterização realizou consistentes classificações para a segmentação dos clientes.\n",
    "Além disso, verifica-se na distribuição acima que apesar de os clientes serem 'Varejistas' ou 'Hotéis/Restaurantes/Cafés', há diversos clientes de uma segmentação que possuem comportamento de despesas similares com clientes do segmento oposto. Ou seja, considerar essa distribuição como base para tomada de decisão pode não ser tão assertivo, pois apesar de um cliente ser de um segmento de negócio ele pode ter um comportamento do outro segmento, e então deve ser tratado de forma diferente! O que no caso, o algoritmo de clusterização demonstra com sucesso. "
   ]
  },
  {
   "cell_type": "markdown",
   "metadata": {},
   "source": [
    "> **Nota**: Uma vez que você completou todas as implementações de código e respondeu todas as questões acima com êxito, você pode finalizar seu trabalho exportando um iPython Notebook como um documento HTML. Você pode fazer isso utilizando o menu acima e navegando até  \n",
    "**File -> Download as -> HTML (.html)**. Inclua o documento finalizado junto com esse Notebook para o seu envio."
   ]
  }
 ],
 "metadata": {
  "kernelspec": {
   "display_name": "Python 3",
   "language": "python",
   "name": "python3"
  },
  "language_info": {
   "codemirror_mode": {
    "name": "ipython",
    "version": 3
   },
   "file_extension": ".py",
   "mimetype": "text/x-python",
   "name": "python",
   "nbconvert_exporter": "python",
   "pygments_lexer": "ipython3",
   "version": "3.7.3"
  }
 },
 "nbformat": 4,
 "nbformat_minor": 1
}
